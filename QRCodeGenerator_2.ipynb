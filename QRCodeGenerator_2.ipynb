{
  "nbformat": 4,
  "nbformat_minor": 0,
  "metadata": {
    "colab": {
      "provenance": [],
      "authorship_tag": "ABX9TyO6yjQF/8wKKzp9ETnHFIEO",
      "include_colab_link": true
    },
    "kernelspec": {
      "name": "python3",
      "display_name": "Python 3"
    },
    "language_info": {
      "name": "python"
    }
  },
  "cells": [
    {
      "cell_type": "markdown",
      "metadata": {
        "id": "view-in-github",
        "colab_type": "text"
      },
      "source": [
        "<a href=\"https://colab.research.google.com/github/ManthanVerma7/QR-Code-Generator-2.0/blob/main/QRCodeGenerator_2.ipynb\" target=\"_parent\"><img src=\"https://colab.research.google.com/assets/colab-badge.svg\" alt=\"Open In Colab\"/></a>"
      ]
    },
    {
      "cell_type": "code",
      "execution_count": null,
      "metadata": {
        "id": "nZjyDBKc_2GP"
      },
      "outputs": [],
      "source": [
        "import qrcode\n",
        "import PIL\n",
        "import qrcode.constants\n",
        "\n",
        "qr = qrcode.QRCode(version= 1, error_correction= qrcode.constants.ERROR_CORRECT_H, box_size=10, border=1)\n",
        "qr.add_data(\"https://in.pinterest.com/pin/844493675201302/\")\n",
        "qr.make(fit=True)\n",
        "img= qr.make_image(fill_color = \"cyan\", back_color = \"white\")\n",
        "img.save(\"pokemon.png\")"
      ]
    }
  ]
}